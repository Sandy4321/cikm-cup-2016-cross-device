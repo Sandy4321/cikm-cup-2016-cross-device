{
 "cells": [
  {
   "cell_type": "code",
   "execution_count": 1,
   "metadata": {
    "collapsed": true
   },
   "outputs": [],
   "source": [
    "import json\n",
    "\n",
    "import pandas as pd\n",
    "import numpy as np\n",
    "import networkx as nx\n",
    "\n",
    "from tqdm import tqdm"
   ]
  },
  {
   "cell_type": "code",
   "execution_count": 2,
   "metadata": {
    "collapsed": true
   },
   "outputs": [],
   "source": [
    "import cPickle"
   ]
  },
  {
   "cell_type": "code",
   "execution_count": 21,
   "metadata": {
    "collapsed": true
   },
   "outputs": [],
   "source": [
    "from IPython.display import display\n",
    "\n",
    "from matplotlib import image\n",
    "import matplotlib.pyplot as plt\n",
    "import seaborn as sns\n",
    "\n",
    "%matplotlib inline"
   ]
  },
  {
   "cell_type": "code",
   "execution_count": 4,
   "metadata": {
    "collapsed": true
   },
   "outputs": [],
   "source": [
    "from sklearn.feature_extraction.text import TfidfVectorizer\n",
    "from sklearn.decomposition import TruncatedSVD"
   ]
  },
  {
   "cell_type": "code",
   "execution_count": 4,
   "metadata": {
    "collapsed": false
   },
   "outputs": [
    {
     "name": "stdout",
     "output_type": "stream",
     "text": [
      "facts.json  titles.csv\ttrain.csv  urls.csv\r\n"
     ]
    }
   ],
   "source": [
    "!ls ../data"
   ]
  },
  {
   "cell_type": "code",
   "execution_count": 5,
   "metadata": {
    "collapsed": false
   },
   "outputs": [
    {
     "name": "stdout",
     "output_type": "stream",
     "text": [
      "   1796480 ../data/titles.csv\n",
      "    506136 ../data/train.csv\n",
      "  14148535 ../data/urls.csv\n",
      "  16451151 total\n"
     ]
    }
   ],
   "source": [
    "!wc -l ../data/*.csv"
   ]
  },
  {
   "cell_type": "code",
   "execution_count": 6,
   "metadata": {
    "collapsed": false
   },
   "outputs": [
    {
     "name": "stdout",
     "output_type": "stream",
     "text": [
      "215307 ../submission.txt\r\n"
     ]
    }
   ],
   "source": [
    "!wc -l ../submission.txt"
   ]
  },
  {
   "cell_type": "code",
   "execution_count": 7,
   "metadata": {
    "collapsed": false
   },
   "outputs": [
    {
     "name": "stdout",
     "output_type": "stream",
     "text": [
      "0b2e6f4410f4d6e2a42b856138f3d1a5,70ca9529383994367b1b1cccd396181b\r\n",
      "0b2e6f4410f4d6e2a42b856138f3d1a5,7d40857ed797cddfbf657082bf31dafa\r\n",
      "70ca9529383994367b1b1cccd396181b,7d40857ed797cddfbf657082bf31dafa\r\n",
      "6887d079ef94f1331eea6f407921a99c,b4960892c01a77c4fd78e9c462684093\r\n",
      "a83d7b0f16e3c47f5f30e9887ddfbf9c,b4960892c01a77c4fd78e9c462684093\r\n",
      "6887d079ef94f1331eea6f407921a99c,a83d7b0f16e3c47f5f30e9887ddfbf9c\r\n",
      "858df101e14cc57bd325c3c5be64430d,fa40b234a1848bedc21e056b51184524\r\n",
      "1365f7a10108ac03984c905e2b9931d7,858df101e14cc57bd325c3c5be64430d\r\n",
      "858df101e14cc57bd325c3c5be64430d,ba5e426a721e78edc59884879018cd71\r\n",
      "858df101e14cc57bd325c3c5be64430d,cd3866219da0ccfe5d75b9f678f94039\r\n"
     ]
    }
   ],
   "source": [
    "!head ../data/train.csv"
   ]
  },
  {
   "cell_type": "code",
   "execution_count": 5,
   "metadata": {
    "collapsed": false
   },
   "outputs": [
    {
     "data": {
      "text/html": [
       "<div>\n",
       "<table border=\"1\" class=\"dataframe\">\n",
       "  <thead>\n",
       "    <tr style=\"text-align: right;\">\n",
       "      <th></th>\n",
       "      <th>user_1</th>\n",
       "      <th>user_2</th>\n",
       "    </tr>\n",
       "  </thead>\n",
       "  <tbody>\n",
       "    <tr>\n",
       "      <th>0</th>\n",
       "      <td>0b2e6f4410f4d6e2a42b856138f3d1a5</td>\n",
       "      <td>70ca9529383994367b1b1cccd396181b</td>\n",
       "    </tr>\n",
       "    <tr>\n",
       "      <th>1</th>\n",
       "      <td>0b2e6f4410f4d6e2a42b856138f3d1a5</td>\n",
       "      <td>7d40857ed797cddfbf657082bf31dafa</td>\n",
       "    </tr>\n",
       "    <tr>\n",
       "      <th>2</th>\n",
       "      <td>70ca9529383994367b1b1cccd396181b</td>\n",
       "      <td>7d40857ed797cddfbf657082bf31dafa</td>\n",
       "    </tr>\n",
       "    <tr>\n",
       "      <th>3</th>\n",
       "      <td>6887d079ef94f1331eea6f407921a99c</td>\n",
       "      <td>b4960892c01a77c4fd78e9c462684093</td>\n",
       "    </tr>\n",
       "    <tr>\n",
       "      <th>4</th>\n",
       "      <td>a83d7b0f16e3c47f5f30e9887ddfbf9c</td>\n",
       "      <td>b4960892c01a77c4fd78e9c462684093</td>\n",
       "    </tr>\n",
       "  </tbody>\n",
       "</table>\n",
       "</div>"
      ],
      "text/plain": [
       "                             user_1                            user_2\n",
       "0  0b2e6f4410f4d6e2a42b856138f3d1a5  70ca9529383994367b1b1cccd396181b\n",
       "1  0b2e6f4410f4d6e2a42b856138f3d1a5  7d40857ed797cddfbf657082bf31dafa\n",
       "2  70ca9529383994367b1b1cccd396181b  7d40857ed797cddfbf657082bf31dafa\n",
       "3  6887d079ef94f1331eea6f407921a99c  b4960892c01a77c4fd78e9c462684093\n",
       "4  a83d7b0f16e3c47f5f30e9887ddfbf9c  b4960892c01a77c4fd78e9c462684093"
      ]
     },
     "execution_count": 5,
     "metadata": {},
     "output_type": "execute_result"
    }
   ],
   "source": [
    "df_train = pd.read_csv('../data/train.csv', header=None)\n",
    "df_train.columns = ['user_1', 'user_2']\n",
    "df_train.head()"
   ]
  },
  {
   "cell_type": "code",
   "execution_count": 34,
   "metadata": {
    "collapsed": false
   },
   "outputs": [
    {
     "data": {
      "text/plain": [
       "(240732, 506136)"
      ]
     },
     "execution_count": 34,
     "metadata": {},
     "output_type": "execute_result"
    }
   ],
   "source": [
    "train_users = set(df_train.user_1) | set(df_train.user_2)\n",
    "len(train_users), len(df_train)"
   ]
  },
  {
   "cell_type": "code",
   "execution_count": 7,
   "metadata": {
    "collapsed": false
   },
   "outputs": [
    {
     "data": {
      "text/plain": [
       "0"
      ]
     },
     "execution_count": 7,
     "metadata": {},
     "output_type": "execute_result"
    }
   ],
   "source": [
    "users12 = set(df_train.user_1 + '_' + df_train.user_2)\n",
    "users21 = set(df_train.user_2 + '_' + df_train.user_1)\n",
    "len(users12 & users21)"
   ]
  },
  {
   "cell_type": "code",
   "execution_count": 8,
   "metadata": {
    "collapsed": false
   },
   "outputs": [
    {
     "name": "stderr",
     "output_type": "stream",
     "text": []
    }
   ],
   "source": [
    "G = nx.Graph()\n",
    "\n",
    "for u1, u2 in tqdm(zip(df_train.user_1, df_train.user_2)):\n",
    "    G.add_edge(u1, u2)"
   ]
  },
  {
   "cell_type": "code",
   "execution_count": 9,
   "metadata": {
    "collapsed": false
   },
   "outputs": [
    {
     "data": {
      "text/plain": [
       "60001"
      ]
     },
     "execution_count": 9,
     "metadata": {},
     "output_type": "execute_result"
    }
   ],
   "source": [
    "nx.number_connected_components(G)"
   ]
  },
  {
   "cell_type": "code",
   "execution_count": 10,
   "metadata": {
    "collapsed": false
   },
   "outputs": [
    {
     "data": {
      "text/plain": [
       "count    60001.000000\n",
       "mean         4.012133\n",
       "std          2.187674\n",
       "min          2.000000\n",
       "25%          3.000000\n",
       "50%          3.000000\n",
       "75%          4.000000\n",
       "max         52.000000\n",
       "dtype: float64"
      ]
     },
     "execution_count": 10,
     "metadata": {},
     "output_type": "execute_result"
    }
   ],
   "source": [
    "components = nx.connected_components(G)\n",
    "sizes = [len(c) for c in components]\n",
    "pd.Series(sizes).describe()"
   ]
  },
  {
   "cell_type": "code",
   "execution_count": 11,
   "metadata": {
    "collapsed": true
   },
   "outputs": [],
   "source": [
    "from itertools import combinations"
   ]
  },
  {
   "cell_type": "code",
   "execution_count": 14,
   "metadata": {
    "collapsed": false
   },
   "outputs": [
    {
     "name": "stderr",
     "output_type": "stream",
     "text": []
    }
   ],
   "source": [
    "components = nx.connected_components(G)\n",
    "total_possible_num = 0\n",
    "for component in tqdm(components):\n",
    "    no_comb = len(list(combinations(component, 2)))\n",
    "    total_possible_num = total_possible_num + no_comb"
   ]
  },
  {
   "cell_type": "code",
   "execution_count": 15,
   "metadata": {
    "collapsed": false
   },
   "outputs": [
    {
     "data": {
      "text/plain": [
       "0"
      ]
     },
     "execution_count": 15,
     "metadata": {},
     "output_type": "execute_result"
    }
   ],
   "source": [
    "total_possible_num - len(df_train)"
   ]
  },
  {
   "cell_type": "code",
   "execution_count": 16,
   "metadata": {
    "collapsed": true
   },
   "outputs": [],
   "source": [
    "components = nx.connected_components(G)\n",
    "comp_to_idx = {}\n",
    "for idx, component in enumerate(components):\n",
    "    for node in component:\n",
    "        comp_to_idx[node] = idx"
   ]
  },
  {
   "cell_type": "code",
   "execution_count": 17,
   "metadata": {
    "collapsed": false
   },
   "outputs": [
    {
     "data": {
      "text/plain": [
       "True"
      ]
     },
     "execution_count": 17,
     "metadata": {},
     "output_type": "execute_result"
    }
   ],
   "source": [
    "(df_train.user_1.apply(comp_to_idx.get) == df_train.user_2.apply(comp_to_idx.get)).all()"
   ]
  },
  {
   "cell_type": "code",
   "execution_count": 18,
   "metadata": {
    "collapsed": false
   },
   "outputs": [
    {
     "data": {
      "text/html": [
       "<div>\n",
       "<table border=\"1\" class=\"dataframe\">\n",
       "  <thead>\n",
       "    <tr style=\"text-align: right;\">\n",
       "      <th></th>\n",
       "      <th>user_1</th>\n",
       "      <th>user_2</th>\n",
       "      <th>component</th>\n",
       "    </tr>\n",
       "  </thead>\n",
       "  <tbody>\n",
       "    <tr>\n",
       "      <th>0</th>\n",
       "      <td>0b2e6f4410f4d6e2a42b856138f3d1a5</td>\n",
       "      <td>70ca9529383994367b1b1cccd396181b</td>\n",
       "      <td>750</td>\n",
       "    </tr>\n",
       "    <tr>\n",
       "      <th>1</th>\n",
       "      <td>0b2e6f4410f4d6e2a42b856138f3d1a5</td>\n",
       "      <td>7d40857ed797cddfbf657082bf31dafa</td>\n",
       "      <td>750</td>\n",
       "    </tr>\n",
       "    <tr>\n",
       "      <th>2</th>\n",
       "      <td>70ca9529383994367b1b1cccd396181b</td>\n",
       "      <td>7d40857ed797cddfbf657082bf31dafa</td>\n",
       "      <td>750</td>\n",
       "    </tr>\n",
       "    <tr>\n",
       "      <th>3</th>\n",
       "      <td>6887d079ef94f1331eea6f407921a99c</td>\n",
       "      <td>b4960892c01a77c4fd78e9c462684093</td>\n",
       "      <td>30046</td>\n",
       "    </tr>\n",
       "    <tr>\n",
       "      <th>4</th>\n",
       "      <td>a83d7b0f16e3c47f5f30e9887ddfbf9c</td>\n",
       "      <td>b4960892c01a77c4fd78e9c462684093</td>\n",
       "      <td>30046</td>\n",
       "    </tr>\n",
       "  </tbody>\n",
       "</table>\n",
       "</div>"
      ],
      "text/plain": [
       "                             user_1                            user_2  \\\n",
       "0  0b2e6f4410f4d6e2a42b856138f3d1a5  70ca9529383994367b1b1cccd396181b   \n",
       "1  0b2e6f4410f4d6e2a42b856138f3d1a5  7d40857ed797cddfbf657082bf31dafa   \n",
       "2  70ca9529383994367b1b1cccd396181b  7d40857ed797cddfbf657082bf31dafa   \n",
       "3  6887d079ef94f1331eea6f407921a99c  b4960892c01a77c4fd78e9c462684093   \n",
       "4  a83d7b0f16e3c47f5f30e9887ddfbf9c  b4960892c01a77c4fd78e9c462684093   \n",
       "\n",
       "   component  \n",
       "0        750  \n",
       "1        750  \n",
       "2        750  \n",
       "3      30046  \n",
       "4      30046  "
      ]
     },
     "execution_count": 18,
     "metadata": {},
     "output_type": "execute_result"
    }
   ],
   "source": [
    "df_train['component'] = df_train.user_1.apply(comp_to_idx.get)\n",
    "df_train.head()"
   ]
  },
  {
   "cell_type": "code",
   "execution_count": 56,
   "metadata": {
    "collapsed": true
   },
   "outputs": [],
   "source": [
    "with open('tmp/df_train.bin', 'wb') as f:\n",
    "    cPickle.dump(df_train, f)"
   ]
  },
  {
   "cell_type": "code",
   "execution_count": 24,
   "metadata": {
    "collapsed": false
   },
   "outputs": [
    {
     "data": {
      "text/plain": [
       "<matplotlib.axes._subplots.AxesSubplot at 0x7ff2881629d0>"
      ]
     },
     "execution_count": 24,
     "metadata": {},
     "output_type": "execute_result"
    },
    {
     "data": {
      "image/png": "[encoded data removed]",
      "text/plain": [
       "<matplotlib.figure.Figure at 0x7ff287aa8410>"
      ]
     },
     "metadata": {},
     "output_type": "display_data"
    }
   ],
   "source": [
    "sns.distplot(sizes, kde=False)"
   ]
  },
  {
   "cell_type": "code",
   "execution_count": 8,
   "metadata": {
    "collapsed": false
   },
   "outputs": [
    {
     "name": "stdout",
     "output_type": "stream",
     "text": [
      "9140201,ed95a9a5be30e4c8/5162fc6a223f248d/31a42ef13edf7d8a/c2ee3aa455c8b288/656e9a1b3fa15996\r\n",
      "6684120,ed95a9a5be30e4c8/5162fc6a223f248d/31a42ef13edf7d8a/c2ee3aa455c8b288/239a176e400bb8a1\r\n",
      "9004649,ed95a9a5be30e4c8/5162fc6a223f248d/31a42ef13edf7d8a/c2ee3aa455c8b288/5ae9335ee8b434ce\r\n",
      "1414226,ed95a9a5be30e4c8/5162fc6a223f248d/31a42ef13edf7d8a/3c2f1eeb42adc015\r\n",
      "4225543,ed95a9a5be30e4c8/5162fc6a223f248d/9445309bd4b645/2a3448823137f338/06429febabd51328\r\n",
      "8141140,ed95a9a5be30e4c8/5162fc6a223f248d/9445309bd4b645/e05694da05942df\r\n",
      "13697961,ed95a9a5be30e4c8/5162fc6a223f248d/9445309bd4b645/1f136441c8ab7767\r\n",
      "11292447,ed95a9a5be30e4c8/5162fc6a223f248d/9445309bd4b645/f0c1b1b0072784c5\r\n",
      "12853589,93bbf66ff7f27f7f/9bed6b58ceea060/a57865e4b9a99b16?083793a328d707c\r\n",
      "2611126,93bbf66ff7f27f7f/1a28b3a2ab7e0cbd\r\n"
     ]
    }
   ],
   "source": [
    "!head ../data/urls.csv"
   ]
  },
  {
   "cell_type": "code",
   "execution_count": 9,
   "metadata": {
    "collapsed": false
   },
   "outputs": [
    {
     "name": "stdout",
     "output_type": "stream",
     "text": [
      "5111291,3a53d906e833c763 473ccdaadb0a594 6141ef2792b67c64 6437137c27f55d27\r\n",
      "6847456,e89c7e0a7501863e e16ec727e36197f3 b764c27d3881dc01 003936c4683cbc1d a37475fd0852f506 e89c7e0a7501863e\r\n",
      "10165396,71947691380e18 c3c6f5010c72e19b 3ca11329476af2fb b764c27d3881dc01 003936c4683cbc1d\r\n",
      "2645961,fe6111a712dba15 3ca11329476af2fb b764c27d3881dc01 003936c4683cbc1d\r\n",
      "11573898,58e99c0c86108d21 e8110332551066ff 67a7830fc356f508\r\n",
      "9136686,13a5920765ae0a2f\r\n",
      "6246913,686e721ec02232bd 52b9374f260d951f ec1c23c9c0769786 2d5c925544bf413f 67a7830fc356f508\r\n",
      "11702872,686e721ec02232bd 672bada065956915 2d5c925544bf413f 67a7830fc356f508\r\n",
      "9536255,2857599a49a30ac6 4ad303956a23cc44 531b29ff0a63902a 2c26d34deaade313 91b05a31959e0573 26727c92e7b07143 abb74e1f1de36d3 37a20a398fae482a\r\n",
      "7449504,cd8ba74c635ea8bf 1b71d5e5322d53ec eb68ebeae21f70c3 b8c6a4cd279bc49 7af36d250bc7134 cb6df886a95bdd67 7af36d250bc7134\r\n"
     ]
    }
   ],
   "source": [
    "!head ../data/titles.csv"
   ]
  },
  {
   "cell_type": "code",
   "execution_count": 26,
   "metadata": {
    "collapsed": false
   },
   "outputs": [
    {
     "name": "stdout",
     "output_type": "stream",
     "text": [
      "{\"facts\": [{\"fid\": 9140201, \"ts\": 1464769462076}, {\"fid\": 9140201, \"ts\": 1464769312076}, {\"fid\": 9140201, \"ts\": 1464769282076}, {\"fid\": 6684120, \"ts\": 1464769248691}, {\"fid\": 6684120, \"ts\": 1464769068691}, {\"fid\": 9004649, \"ts\": 1464768967747}, {\"fid\": 1414226, \"ts\": 1464768953582}, {\"fid\": 9004649, \"ts\": 1464768907747}, {\"fid\": 9004649, \"ts\": 1464768787747}, {\"fid\": 4225543, \"ts\": 1464764699151}, {\"fid\": 4225543, \"ts\": 1464764639151}, {\"fid\": 8141140, \"ts\": 1464764633759}, {\"fid\": 4225543, \"ts\": 1464764609151}, {\"fid\": 4225543, \"ts\": 1464764519151}, {\"fid\": 13697961, \"ts\": 1464764384950}, {\"fid\": 4225543, \"ts\": 1464764339151}, {\"fid\": 4225543, \"ts\": 1464764279151}, {\"fid\": 4225543, \"ts\": 1464764099151}, {\"fid\": 11292447, \"ts\": 1464764030849}, {\"fid\": 4225543, \"ts\": 1464763979151}, {\"fid\": 4225543, \"ts\": 1464762899151}, {\"fid\": 4225543, \"ts\": 1464762779151}, {\"fid\": 4225543, \"ts\": 1464762719151}, {\"fid\": 4225543, \"ts\": 1464762599151}, {\"fid\": 4225543, \"ts\": 1464762569151}, {\"fid\": 4225543, \"ts\": 1464762479151}, {\"fid\": 4225543, \"ts\": 1464762449151}, {\"fid\": 4225543, \"ts\": 1464762389151}, {\"fid\": 4225543, \"ts\": 1464762299151}, {\"fid\": 4225543, \"ts\": 1464762239151}, {\"fid\": 12853589, \"ts\": 1464762199171}, {\"fid\": 2611126, \"ts\": 1464762193661}, {\"fid\": 7409822, \"ts\": 1464762191026}, {\"fid\": 12853589, \"ts\": 1464762169171}, {\"fid\": 3907979, \"ts\": 1464762138231}, {\"fid\": 8799201, \"ts\": 1464762124110}, {\"fid\": 4225543, \"ts\": 1464762059151}, {\"fid\": 4225543, \"ts\": 1464761939151}, {\"fid\": 4225543, \"ts\": 1464761909151}, {\"fid\": 4225543, \"ts\": 1464761879151}, {\"fid\": 4225543, \"ts\": 1464761789151}, {\"fid\": 1060538, \"ts\": 1464761774841}, {\"fid\": 2458705, \"ts\": 1464761665071}, {\"fid\": 2458705, \"ts\": 1464761545071}, {\"fid\": 2458705, \"ts\": 1464761275071}, {\"fid\": 2458705, \"ts\": 1464761245071}, {\"fid\": 2458705, \"ts\": 1464761125071}, {\"fid\": 2458705, \"ts\": 1464761065071}, {\"fid\": 2458705, \"ts\": 1464760975071}, {\"fid\": 2458705, \"ts\": 1464760915071}, {\"fid\": 2458705, \"ts\": 1464760885071}, {\"fid\": 2458705, \"ts\": 1464760705071}, {\"fid\": 13469796, \"ts\": 1464760610921}, {\"fid\": 2458705, \"ts\": 1464760585071}, {\"fid\": 4225543, \"ts\": 1464760559151}, {\"fid\": 4225543, \"ts\": 1464760529151}, {\"fid\": 8451951, \"ts\": 1464760519911}, {\"fid\": 7084072, \"ts\": 1464760483771}, {\"fid\": 1889319, \"ts\": 1464760478145}, {\"fid\": 116415, \"ts\": 1464760447815}, {\"fid\": 1333583, \"ts\": 1464759957908}, {\"fid\": 8799201, \"ts\": 1464759923649}, {\"fid\": 7644575, \"ts\": 1464759921103}, {\"fid\": 7286929, \"ts\": 1464759913447}, {\"fid\": 7644575, \"ts\": 1464759891103}, {\"fid\": 7286929, \"ts\": 1464759883447}, {\"fid\": 10816834, \"ts\": 1464759535330}, {\"fid\": 8799201, \"ts\": 1464759484110}], \"uid\": \"59e3393261202d419e3c2721a6e15f9f\"}\r\n"
     ]
    }
   ],
   "source": [
    "!head -n 1 ../data/facts.json"
   ]
  },
  {
   "cell_type": "code",
   "execution_count": 47,
   "metadata": {
    "collapsed": true
   },
   "outputs": [],
   "source": [
    "from collections import defaultdict, Counter"
   ]
  },
  {
   "cell_type": "code",
   "execution_count": 28,
   "metadata": {
    "collapsed": false
   },
   "outputs": [
    {
     "name": "stderr",
     "output_type": "stream",
     "text": []
    }
   ],
   "source": [
    "facts_to_users = defaultdict(list)\n",
    "users_to_facts = {}\n",
    "\n",
    "with open('../data/facts.json', 'r') as fact_file:\n",
    "    for line in tqdm(fact_file):\n",
    "        d = json.loads(line)\n",
    "        uid = d['uid']\n",
    "        fids = [f['fid'] for f in d['facts']]\n",
    "        for fid in fids:\n",
    "            facts_to_users[fid].append(uid)\n",
    "        users_to_facts[uid] = fids"
   ]
  },
  {
   "cell_type": "code",
   "execution_count": 35,
   "metadata": {
    "collapsed": false
   },
   "outputs": [
    {
     "data": {
      "text/plain": [
       "(240732, 98673)"
      ]
     },
     "execution_count": 35,
     "metadata": {},
     "output_type": "execute_result"
    }
   ],
   "source": [
    "users = set(users_to_facts.keys())\n",
    "test_users = users - train_users\n",
    "len(train_users), len(test_users)"
   ]
  },
  {
   "cell_type": "code",
   "execution_count": 57,
   "metadata": {
    "collapsed": true
   },
   "outputs": [],
   "source": [
    "with open('tmp/test-train-users.bin', 'wb') as f:\n",
    "    cPickle.dump((train_users, test_users), f)"
   ]
  },
  {
   "cell_type": "code",
   "execution_count": 36,
   "metadata": {
    "collapsed": false
   },
   "outputs": [
    {
     "data": {
      "text/plain": [
       "14148535"
      ]
     },
     "execution_count": 36,
     "metadata": {},
     "output_type": "execute_result"
    }
   ],
   "source": [
    "len(facts_to_users.keys())"
   ]
  },
  {
   "cell_type": "code",
   "execution_count": 43,
   "metadata": {
    "collapsed": false
   },
   "outputs": [
    {
     "data": {
      "image/png": "[encoded data removed]",
      "text/plain": [
       "<matplotlib.figure.Figure at 0x7ff22a7cf050>"
      ]
     },
     "metadata": {},
     "output_type": "display_data"
    },
    {
     "data": {
      "text/plain": [
       "count    339405.000000\n",
       "mean        196.840029\n",
       "std         269.514074\n",
       "min           2.000000\n",
       "25%          70.000000\n",
       "50%         106.000000\n",
       "75%         199.000000\n",
       "max        2000.000000\n",
       "dtype: float64"
      ]
     },
     "execution_count": 43,
     "metadata": {},
     "output_type": "execute_result"
    }
   ],
   "source": [
    "facts_sizes = [len(f) for f in users_to_facts.values()]\n",
    "sns.distplot(facts_sizes, kde=False)\n",
    "plt.show()\n",
    "pd.Series(facts_sizes).describe()"
   ]
  },
  {
   "cell_type": "code",
   "execution_count": 46,
   "metadata": {
    "collapsed": false
   },
   "outputs": [
    {
     "data": {
      "text/plain": [
       "count    14148535.000000\n",
       "mean            4.721937\n",
       "std           377.965495\n",
       "min             1.000000\n",
       "25%             1.000000\n",
       "50%             1.000000\n",
       "75%             2.000000\n",
       "max        875356.000000\n",
       "dtype: float64"
      ]
     },
     "execution_count": 46,
     "metadata": {},
     "output_type": "execute_result"
    }
   ],
   "source": [
    "user_sizes = [len(u) for u in facts_to_users.values()]\n",
    "pd.Series(user_sizes).describe()"
   ]
  },
  {
   "cell_type": "code",
   "execution_count": 49,
   "metadata": {
    "collapsed": false
   },
   "outputs": [
    {
     "data": {
      "text/plain": [
       "[(2694972, 875356),\n",
       " (8799201, 475277),\n",
       " (4155546, 285375),\n",
       " (8849469, 255884),\n",
       " (10589587, 244506),\n",
       " (8540688, 243527),\n",
       " (11433197, 233564),\n",
       " (5743549, 225490),\n",
       " (7608004, 217233),\n",
       " (10577741, 198511),\n",
       " (5313723, 195309),\n",
       " (14046140, 180373),\n",
       " (2102032, 169105),\n",
       " (10086853, 154529),\n",
       " (12926861, 148107),\n",
       " (10782343, 138411),\n",
       " (7095228, 134720),\n",
       " (4840746, 128802),\n",
       " (12746145, 122239),\n",
       " (116415, 120533)]"
      ]
     },
     "execution_count": 49,
     "metadata": {},
     "output_type": "execute_result"
    }
   ],
   "source": [
    "cnt = Counter({u: len(v) for (u, v) in facts_to_users.items() if len(v) > 1})\n",
    "most_common_facts = cnt.most_common(20)\n",
    "most_common_facts"
   ]
  },
  {
   "cell_type": "code",
   "execution_count": 52,
   "metadata": {
    "collapsed": false
   },
   "outputs": [
    {
     "data": {
      "text/plain": [
       "0.62078130350598137"
      ]
     },
     "execution_count": 52,
     "metadata": {},
     "output_type": "execute_result"
    }
   ],
   "source": [
    "np.mean([len(v) == 1 for v in facts_to_users.values()])"
   ]
  },
  {
   "cell_type": "code",
   "execution_count": 53,
   "metadata": {
    "collapsed": false
   },
   "outputs": [
    {
     "data": {
      "text/plain": [
       "0.80189779365849534"
      ]
     },
     "execution_count": 53,
     "metadata": {},
     "output_type": "execute_result"
    }
   ],
   "source": [
    "np.mean([len(v) <= 2 for v in facts_to_users.values()])"
   ]
  },
  {
   "cell_type": "code",
   "execution_count": 54,
   "metadata": {
    "collapsed": false
   },
   "outputs": [
    {
     "data": {
      "text/plain": [
       "0.9217465271139379"
      ]
     },
     "execution_count": 54,
     "metadata": {},
     "output_type": "execute_result"
    }
   ],
   "source": [
    "np.mean([len(v) <= 5 for v in facts_to_users.values()])"
   ]
  },
  {
   "cell_type": "markdown",
   "metadata": {},
   "source": [
    "## Some data preprocessing"
   ]
  },
  {
   "cell_type": "code",
   "execution_count": 35,
   "metadata": {
    "collapsed": false
   },
   "outputs": [],
   "source": [
    "cnt = 0\n",
    "code_dict = {}\n",
    "\n",
    "def encode(token):\n",
    "    if token is None:\n",
    "        return None\n",
    "\n",
    "    if token in code_dict:\n",
    "        code = code_dict[token]\n",
    "        return np.base_repr(code, base=36)\n",
    "\n",
    "    global cnt\n",
    "    code = cnt\n",
    "    code_dict[token] = code\n",
    "    cnt = cnt + 1\n",
    "    return np.base_repr(code, base=36)"
   ]
  },
  {
   "cell_type": "code",
   "execution_count": 36,
   "metadata": {
    "collapsed": false
   },
   "outputs": [
    {
     "name": "stderr",
     "output_type": "stream",
     "text": []
    }
   ],
   "source": [
    "titles = {}\n",
    "\n",
    "with open('../data/titles.csv', 'r') as f:\n",
    "    for line in tqdm(f):\n",
    "        uid, title = line.strip().split(',')\n",
    "        tokens = title.split(' ')\n",
    "        code_tokens = [encode(t) for t in tokens]\n",
    "    \n",
    "        titles[int(uid)] = ' '.join(code_tokens)"
   ]
  },
  {
   "cell_type": "code",
   "execution_count": 37,
   "metadata": {
    "collapsed": false
   },
   "outputs": [
    {
     "data": {
      "text/plain": [
       "305261"
      ]
     },
     "execution_count": 37,
     "metadata": {},
     "output_type": "execute_result"
    }
   ],
   "source": [
    "cnt"
   ]
  },
  {
   "cell_type": "code",
   "execution_count": 39,
   "metadata": {
    "collapsed": false
   },
   "outputs": [
    {
     "data": {
      "text/plain": [
       "1796480"
      ]
     },
     "execution_count": 39,
     "metadata": {},
     "output_type": "execute_result"
    }
   ],
   "source": [
    "len(titles)"
   ]
  },
  {
   "cell_type": "code",
   "execution_count": 41,
   "metadata": {
    "collapsed": false
   },
   "outputs": [
    {
     "name": "stderr",
     "output_type": "stream",
     "text": []
    }
   ],
   "source": [
    "url_dicts = []\n",
    "\n",
    "with open('../data/urls.csv', 'r') as f:\n",
    "    for line in tqdm(f):\n",
    "        url_id, url = line.strip().split(',')\n",
    "        url_id = int(url_id)\n",
    "\n",
    "        param = None\n",
    "        if '?' in url:\n",
    "            url, param = url.split('?')\n",
    "\n",
    "        url_tokens = url.split('/')\n",
    "        url_tokens_code = [encode(t) for t in url_tokens]\n",
    "\n",
    "        param = encode(param)\n",
    "        domain = url_tokens_code[0]\n",
    "        address = url_tokens_code[1:]\n",
    "\n",
    "        row_dict = {'url_id': url_id, 'domain': domain, \n",
    "                    'address': ' '.join(address), 'param': param,\n",
    "                    'title': titles.get(url_id, '') }\n",
    "        url_dicts.append(row_dict)"
   ]
  },
  {
   "cell_type": "code",
   "execution_count": 42,
   "metadata": {
    "collapsed": false
   },
   "outputs": [
    {
     "data": {
      "text/plain": [
       "12889026"
      ]
     },
     "execution_count": 42,
     "metadata": {},
     "output_type": "execute_result"
    }
   ],
   "source": [
    "cnt"
   ]
  },
  {
   "cell_type": "code",
   "execution_count": 43,
   "metadata": {
    "collapsed": false
   },
   "outputs": [
    {
     "data": {
      "text/plain": [
       "[{'address': 'UZ9 4FRS 6JJI 6JJJ',\n",
       "  'domain': '6JJH',\n",
       "  'param': None,\n",
       "  'title': 'ES ET EU EV BW T',\n",
       "  'url_id': 9140201},\n",
       " {'address': 'UZ9 4FRS 6JJI 6JJK',\n",
       "  'domain': '6JJH',\n",
       "  'param': None,\n",
       "  'title': 'ES ET EU EV BW T',\n",
       "  'url_id': 6684120},\n",
       " {'address': 'UZ9 4FRS 6JJI 6JJL',\n",
       "  'domain': '6JJH',\n",
       "  'param': None,\n",
       "  'title': 'ES ET EU EV BW T',\n",
       "  'url_id': 9004649},\n",
       " {'address': 'UZ9 4FRS 6JJM',\n",
       "  'domain': '6JJH',\n",
       "  'param': None,\n",
       "  'title': '',\n",
       "  'url_id': 1414226},\n",
       " {'address': 'UZ9 5QDM 1RIQ 6JJN',\n",
       "  'domain': '6JJH',\n",
       "  'param': None,\n",
       "  'title': 'M 2T 2P 2R BW T',\n",
       "  'url_id': 4225543}]"
      ]
     },
     "execution_count": 43,
     "metadata": {},
     "output_type": "execute_result"
    }
   ],
   "source": [
    "url_dicts[:5]"
   ]
  },
  {
   "cell_type": "code",
   "execution_count": 44,
   "metadata": {
    "collapsed": true
   },
   "outputs": [],
   "source": [
    "with open('tmp/url_dict.bin', 'wb') as f:\n",
    "    cPickle.dump(url_dicts, f)"
   ]
  },
  {
   "cell_type": "code",
   "execution_count": 55,
   "metadata": {
    "collapsed": true
   },
   "outputs": [],
   "source": [
    "with open('tmp/url_dict.bin', 'rb') as f:\n",
    "    url_dicts = cPickle.load(f)"
   ]
  },
  {
   "cell_type": "markdown",
   "metadata": {},
   "source": []
  },
  {
   "cell_type": "code",
   "execution_count": 95,
   "metadata": {
    "collapsed": false
   },
   "outputs": [
    {
     "data": {
      "text/html": [
       "<div>\n",
       "<table border=\"1\" class=\"dataframe\">\n",
       "  <thead>\n",
       "    <tr style=\"text-align: right;\">\n",
       "      <th></th>\n",
       "      <th>domain</th>\n",
       "      <th>address</th>\n",
       "      <th>param</th>\n",
       "      <th>title</th>\n",
       "    </tr>\n",
       "    <tr>\n",
       "      <th>url_id</th>\n",
       "      <th></th>\n",
       "      <th></th>\n",
       "      <th></th>\n",
       "      <th></th>\n",
       "    </tr>\n",
       "  </thead>\n",
       "  <tbody>\n",
       "    <tr>\n",
       "      <th>9140201</th>\n",
       "      <td>6JJH</td>\n",
       "      <td>UZ9 4FRS 6JJI 6JJJ</td>\n",
       "      <td></td>\n",
       "      <td>ES ET EU EV BW T</td>\n",
       "    </tr>\n",
       "    <tr>\n",
       "      <th>6684120</th>\n",
       "      <td>6JJH</td>\n",
       "      <td>UZ9 4FRS 6JJI 6JJK</td>\n",
       "      <td></td>\n",
       "      <td>ES ET EU EV BW T</td>\n",
       "    </tr>\n",
       "    <tr>\n",
       "      <th>9004649</th>\n",
       "      <td>6JJH</td>\n",
       "      <td>UZ9 4FRS 6JJI 6JJL</td>\n",
       "      <td></td>\n",
       "      <td>ES ET EU EV BW T</td>\n",
       "    </tr>\n",
       "    <tr>\n",
       "      <th>1414226</th>\n",
       "      <td>6JJH</td>\n",
       "      <td>UZ9 4FRS 6JJM</td>\n",
       "      <td></td>\n",
       "      <td></td>\n",
       "    </tr>\n",
       "    <tr>\n",
       "      <th>4225543</th>\n",
       "      <td>6JJH</td>\n",
       "      <td>UZ9 5QDM 1RIQ 6JJN</td>\n",
       "      <td></td>\n",
       "      <td>M 2T 2P 2R BW T</td>\n",
       "    </tr>\n",
       "  </tbody>\n",
       "</table>\n",
       "</div>"
      ],
      "text/plain": [
       "        domain             address param             title\n",
       "url_id                                                    \n",
       "9140201   6JJH  UZ9 4FRS 6JJI 6JJJ        ES ET EU EV BW T\n",
       "6684120   6JJH  UZ9 4FRS 6JJI 6JJK        ES ET EU EV BW T\n",
       "9004649   6JJH  UZ9 4FRS 6JJI 6JJL        ES ET EU EV BW T\n",
       "1414226   6JJH       UZ9 4FRS 6JJM                        \n",
       "4225543   6JJH  UZ9 5QDM 1RIQ 6JJN         M 2T 2P 2R BW T"
      ]
     },
     "execution_count": 95,
     "metadata": {},
     "output_type": "execute_result"
    }
   ],
   "source": [
    "df_urls = pd.DataFrame(url_dicts, columns=['url_id', 'domain', 'address', 'param', 'title'])\n",
    "df_urls.set_index('url_id', inplace=1)\n",
    "df_urls.param.fillna('', inplace=1)\n",
    "df_urls.head()"
   ]
  },
  {
   "cell_type": "code",
   "execution_count": 96,
   "metadata": {
    "collapsed": false
   },
   "outputs": [],
   "source": [
    "with open('tmp/df_url.bin', 'wb') as f:\n",
    "    cPickle.dump(df_urls, f)"
   ]
  },
  {
   "cell_type": "code",
   "execution_count": 97,
   "metadata": {
    "collapsed": false
   },
   "outputs": [],
   "source": [
    "top = df_urls.loc[[f for (f, _) in most_common_facts]]"
   ]
  },
  {
   "cell_type": "code",
   "execution_count": 98,
   "metadata": {
    "collapsed": false
   },
   "outputs": [],
   "source": [
    "domain_to_uid = dict(zip(df_urls.domain, df_urls.index))"
   ]
  },
  {
   "cell_type": "code",
   "execution_count": 99,
   "metadata": {
    "collapsed": false
   },
   "outputs": [
    {
     "data": {
      "text/plain": [
       "14148535"
      ]
     },
     "execution_count": 99,
     "metadata": {},
     "output_type": "execute_result"
    }
   ],
   "source": [
    "len(df_urls)"
   ]
  },
  {
   "cell_type": "code",
   "execution_count": 100,
   "metadata": {
    "collapsed": false
   },
   "outputs": [
    {
     "data": {
      "text/plain": [
       "(230297, 0.016277091585807296)"
      ]
     },
     "execution_count": 100,
     "metadata": {},
     "output_type": "execute_result"
    }
   ],
   "source": [
    "len(domain_to_uid), 1.0 * len(domain_to_uid) / len(df_urls)"
   ]
  },
  {
   "cell_type": "code",
   "execution_count": 101,
   "metadata": {
    "collapsed": false
   },
   "outputs": [
    {
     "data": {
      "text/plain": [
       "0.637780165932374"
      ]
     },
     "execution_count": 101,
     "metadata": {},
     "output_type": "execute_result"
    }
   ],
   "source": [
    "no_param = df_urls.domain + ' ' + df_urls.address\n",
    "1.0 * (no_param).nunique() / len(df_urls)"
   ]
  },
  {
   "cell_type": "code",
   "execution_count": 102,
   "metadata": {
    "collapsed": true
   },
   "outputs": [],
   "source": [
    "df_titles = df_urls.title[df_urls.title != '']"
   ]
  },
  {
   "cell_type": "code",
   "execution_count": 103,
   "metadata": {
    "collapsed": false
   },
   "outputs": [
    {
     "data": {
      "text/plain": [
       "(1796480, 0.6900839419308871)"
      ]
     },
     "execution_count": 103,
     "metadata": {},
     "output_type": "execute_result"
    }
   ],
   "source": [
    "len(df_titles), 1.0 * df_titles.nunique() / len(df_titles)"
   ]
  },
  {
   "cell_type": "code",
   "execution_count": 104,
   "metadata": {
    "collapsed": false
   },
   "outputs": [
    {
     "data": {
      "text/plain": [
       "[u'4510c33098f774ef91efd1933568db58',\n",
       " u'cc85d0192f425c7053961e41009ddfbf',\n",
       " u'99819f8a6f8e4030bc0a8ca82c00d894',\n",
       " u'6a54cf3460640e31e869c351f71a9a33',\n",
       " u'1f944a2379de11338a2f65ce1aaf106b']"
      ]
     },
     "execution_count": 104,
     "metadata": {},
     "output_type": "execute_result"
    }
   ],
   "source": [
    "np.random.seed(1)\n",
    "random_users = list(np.random.choice(users_to_facts.keys(), size=5))\n",
    "random_users "
   ]
  },
  {
   "cell_type": "code",
   "execution_count": 105,
   "metadata": {
    "collapsed": false,
    "scrolled": true
   },
   "outputs": [
    {
     "name": "stdout",
     "output_type": "stream",
     "text": [
      "user 4510c33098f774ef91efd1933568db58\n"
     ]
    },
    {
     "data": {
      "text/html": [
       "<div>\n",
       "<table border=\"1\" class=\"dataframe\">\n",
       "  <thead>\n",
       "    <tr style=\"text-align: right;\">\n",
       "      <th></th>\n",
       "      <th>domain</th>\n",
       "      <th>address</th>\n",
       "      <th>param</th>\n",
       "      <th>title</th>\n",
       "    </tr>\n",
       "    <tr>\n",
       "      <th>url_id</th>\n",
       "      <th></th>\n",
       "      <th></th>\n",
       "      <th></th>\n",
       "      <th></th>\n",
       "    </tr>\n",
       "  </thead>\n",
       "  <tbody>\n",
       "    <tr>\n",
       "      <th>2424896</th>\n",
       "      <td>UJQ7</td>\n",
       "      <td>2FO UJQ8 6JLX 6PN6</td>\n",
       "      <td></td>\n",
       "      <td></td>\n",
       "    </tr>\n",
       "    <tr>\n",
       "      <th>513749</th>\n",
       "      <td>6RCK</td>\n",
       "      <td>6RCL HUW 6YH0W</td>\n",
       "      <td></td>\n",
       "      <td>O 436 AY 4E0 2S M 436 AT</td>\n",
       "    </tr>\n",
       "    <tr>\n",
       "      <th>629520</th>\n",
       "      <td>EIMM</td>\n",
       "      <td>MI G1I 4SR 6KMH</td>\n",
       "      <td></td>\n",
       "      <td></td>\n",
       "    </tr>\n",
       "  </tbody>\n",
       "</table>\n",
       "</div>"
      ],
      "text/plain": [
       "        domain             address param                     title\n",
       "url_id                                                            \n",
       "2424896   UJQ7  2FO UJQ8 6JLX 6PN6                                \n",
       "513749    6RCK      6RCL HUW 6YH0W        O 436 AY 4E0 2S M 436 AT\n",
       "629520    EIMM     MI G1I 4SR 6KMH                                "
      ]
     },
     "metadata": {},
     "output_type": "display_data"
    },
    {
     "name": "stdout",
     "output_type": "stream",
     "text": [
      "52 rows\n",
      "\n",
      "user cc85d0192f425c7053961e41009ddfbf\n"
     ]
    },
    {
     "data": {
      "text/html": [
       "<div>\n",
       "<table border=\"1\" class=\"dataframe\">\n",
       "  <thead>\n",
       "    <tr style=\"text-align: right;\">\n",
       "      <th></th>\n",
       "      <th>domain</th>\n",
       "      <th>address</th>\n",
       "      <th>param</th>\n",
       "      <th>title</th>\n",
       "    </tr>\n",
       "    <tr>\n",
       "      <th>url_id</th>\n",
       "      <th></th>\n",
       "      <th></th>\n",
       "      <th></th>\n",
       "      <th></th>\n",
       "    </tr>\n",
       "  </thead>\n",
       "  <tbody>\n",
       "    <tr>\n",
       "      <th>3900430</th>\n",
       "      <td>6KZ4</td>\n",
       "      <td>6JVH</td>\n",
       "      <td>4M57Z</td>\n",
       "      <td></td>\n",
       "    </tr>\n",
       "    <tr>\n",
       "      <th>558640</th>\n",
       "      <td>78RF</td>\n",
       "      <td>6N6X 2C4C TZTX QPIY</td>\n",
       "      <td></td>\n",
       "      <td></td>\n",
       "    </tr>\n",
       "    <tr>\n",
       "      <th>3837463</th>\n",
       "      <td>ASR8</td>\n",
       "      <td>KDAR</td>\n",
       "      <td></td>\n",
       "      <td></td>\n",
       "    </tr>\n",
       "  </tbody>\n",
       "</table>\n",
       "</div>"
      ],
      "text/plain": [
       "        domain              address  param title\n",
       "url_id                                          \n",
       "3900430   6KZ4                 6JVH  4M57Z      \n",
       "558640    78RF  6N6X 2C4C TZTX QPIY             \n",
       "3837463   ASR8                 KDAR             "
      ]
     },
     "metadata": {},
     "output_type": "display_data"
    },
    {
     "name": "stdout",
     "output_type": "stream",
     "text": [
      "67 rows\n",
      "\n",
      "user 99819f8a6f8e4030bc0a8ca82c00d894\n"
     ]
    },
    {
     "data": {
      "text/html": [
       "<div>\n",
       "<table border=\"1\" class=\"dataframe\">\n",
       "  <thead>\n",
       "    <tr style=\"text-align: right;\">\n",
       "      <th></th>\n",
       "      <th>domain</th>\n",
       "      <th>address</th>\n",
       "      <th>param</th>\n",
       "      <th>title</th>\n",
       "    </tr>\n",
       "    <tr>\n",
       "      <th>url_id</th>\n",
       "      <th></th>\n",
       "      <th></th>\n",
       "      <th></th>\n",
       "      <th></th>\n",
       "    </tr>\n",
       "  </thead>\n",
       "  <tbody>\n",
       "    <tr>\n",
       "      <th>13626566</th>\n",
       "      <td>9KTB</td>\n",
       "      <td>9KTC UGZ 51F7N</td>\n",
       "      <td></td>\n",
       "      <td></td>\n",
       "    </tr>\n",
       "    <tr>\n",
       "      <th>13220193</th>\n",
       "      <td>7JGS</td>\n",
       "      <td>6RCL HUW 4NZ1Y</td>\n",
       "      <td></td>\n",
       "      <td></td>\n",
       "    </tr>\n",
       "    <tr>\n",
       "      <th>13626566</th>\n",
       "      <td>9KTB</td>\n",
       "      <td>9KTC UGZ 51F7N</td>\n",
       "      <td></td>\n",
       "      <td></td>\n",
       "    </tr>\n",
       "  </tbody>\n",
       "</table>\n",
       "</div>"
      ],
      "text/plain": [
       "         domain         address param title\n",
       "url_id                                     \n",
       "13626566   9KTB  9KTC UGZ 51F7N            \n",
       "13220193   7JGS  6RCL HUW 4NZ1Y            \n",
       "13626566   9KTB  9KTC UGZ 51F7N            "
      ]
     },
     "metadata": {},
     "output_type": "display_data"
    },
    {
     "name": "stdout",
     "output_type": "stream",
     "text": [
      "62 rows\n",
      "\n",
      "user 6a54cf3460640e31e869c351f71a9a33\n"
     ]
    },
    {
     "data": {
      "text/html": [
       "<div>\n",
       "<table border=\"1\" class=\"dataframe\">\n",
       "  <thead>\n",
       "    <tr style=\"text-align: right;\">\n",
       "      <th></th>\n",
       "      <th>domain</th>\n",
       "      <th>address</th>\n",
       "      <th>param</th>\n",
       "      <th>title</th>\n",
       "    </tr>\n",
       "    <tr>\n",
       "      <th>url_id</th>\n",
       "      <th></th>\n",
       "      <th></th>\n",
       "      <th></th>\n",
       "      <th></th>\n",
       "    </tr>\n",
       "  </thead>\n",
       "  <tbody>\n",
       "    <tr>\n",
       "      <th>2725406</th>\n",
       "      <td>6JJH</td>\n",
       "      <td>6UR4 6KQF 5TZCQ</td>\n",
       "      <td></td>\n",
       "      <td></td>\n",
       "    </tr>\n",
       "    <tr>\n",
       "      <th>14083298</th>\n",
       "      <td>1HSG6</td>\n",
       "      <td></td>\n",
       "      <td>72GUL</td>\n",
       "      <td></td>\n",
       "    </tr>\n",
       "    <tr>\n",
       "      <th>2725406</th>\n",
       "      <td>6JJH</td>\n",
       "      <td>6UR4 6KQF 5TZCQ</td>\n",
       "      <td></td>\n",
       "      <td></td>\n",
       "    </tr>\n",
       "  </tbody>\n",
       "</table>\n",
       "</div>"
      ],
      "text/plain": [
       "         domain          address  param title\n",
       "url_id                                       \n",
       "2725406    6JJH  6UR4 6KQF 5TZCQ             \n",
       "14083298  1HSG6                   72GUL      \n",
       "2725406    6JJH  6UR4 6KQF 5TZCQ             "
      ]
     },
     "metadata": {},
     "output_type": "display_data"
    },
    {
     "name": "stdout",
     "output_type": "stream",
     "text": [
      "637 rows\n",
      "\n",
      "user 1f944a2379de11338a2f65ce1aaf106b\n"
     ]
    },
    {
     "data": {
      "text/html": [
       "<div>\n",
       "<table border=\"1\" class=\"dataframe\">\n",
       "  <thead>\n",
       "    <tr style=\"text-align: right;\">\n",
       "      <th></th>\n",
       "      <th>domain</th>\n",
       "      <th>address</th>\n",
       "      <th>param</th>\n",
       "      <th>title</th>\n",
       "    </tr>\n",
       "    <tr>\n",
       "      <th>url_id</th>\n",
       "      <th></th>\n",
       "      <th></th>\n",
       "      <th></th>\n",
       "      <th></th>\n",
       "    </tr>\n",
       "  </thead>\n",
       "  <tbody>\n",
       "    <tr>\n",
       "      <th>2896342</th>\n",
       "      <td>6KFL</td>\n",
       "      <td>6PRXU</td>\n",
       "      <td></td>\n",
       "      <td></td>\n",
       "    </tr>\n",
       "    <tr>\n",
       "      <th>4032184</th>\n",
       "      <td>6KBO</td>\n",
       "      <td>6KBP</td>\n",
       "      <td>2PCI1</td>\n",
       "      <td></td>\n",
       "    </tr>\n",
       "    <tr>\n",
       "      <th>1205258</th>\n",
       "      <td>6JJH</td>\n",
       "      <td>6QNO 6KZU 4WZ6P</td>\n",
       "      <td></td>\n",
       "      <td></td>\n",
       "    </tr>\n",
       "  </tbody>\n",
       "</table>\n",
       "</div>"
      ],
      "text/plain": [
       "        domain          address  param title\n",
       "url_id                                      \n",
       "2896342   6KFL            6PRXU             \n",
       "4032184   6KBO             6KBP  2PCI1      \n",
       "1205258   6JJH  6QNO 6KZU 4WZ6P             "
      ]
     },
     "metadata": {},
     "output_type": "display_data"
    },
    {
     "name": "stdout",
     "output_type": "stream",
     "text": [
      "500 rows\n",
      "\n"
     ]
    }
   ],
   "source": [
    "for uid in random_users:\n",
    "    print 'user %s' % uid\n",
    "    facts = users_to_facts[uid]\n",
    "    df_facts = df_urls.iloc[facts]\n",
    "    display(df_facts.head(n=3))\n",
    "    print '%d rows' % len(df_facts)\n",
    "    \n",
    "    print "
   ]
  },
  {
   "cell_type": "markdown",
   "metadata": {},
   "source": [
    "Now can try to put this to ES for every user"
   ]
  },
  {
   "cell_type": "code",
   "execution_count": 457,
   "metadata": {
    "collapsed": false
   },
   "outputs": [],
   "source": [
    "indexes = {fid: i for (i, fid) in enumerate(df_urls.index)}"
   ]
  },
  {
   "cell_type": "code",
   "execution_count": 443,
   "metadata": {
    "collapsed": false
   },
   "outputs": [
    {
     "data": {
      "text/plain": [
       "{u'acknowledged': True}"
      ]
     },
     "execution_count": 443,
     "metadata": {},
     "output_type": "execute_result"
    }
   ],
   "source": [
    "from elasticsearch import Elasticsearch\n",
    "es = Elasticsearch(host='172.17.0.2')\n",
    "# es.indices.delete(index='user')"
   ]
  },
  {
   "cell_type": "code",
   "execution_count": 460,
   "metadata": {
    "collapsed": true
   },
   "outputs": [],
   "source": [
    "from elasticsearch_dsl.connections import connections\n",
    "from elasticsearch_dsl import Mapping, String, Nested\n",
    "from elasticsearch_dsl import analyzer, tokenizer\n",
    "\n",
    "whitespace_analyzer = analyzer('whitespace_analyzer', tokenizer=tokenizer('whitespace'))\n",
    "con = connections.create_connection(host='172.17.0.2')"
   ]
  },
  {
   "cell_type": "code",
   "execution_count": 461,
   "metadata": {
    "collapsed": false
   },
   "outputs": [
    {
     "name": "stdout",
     "output_type": "stream",
     "text": [
      "{\n",
      "  \"user_log\": {\n",
      "    \"properties\": {\n",
      "      \"fact\": {\n",
      "        \"type\": \"nested\", \n",
      "        \"include_in_parent\": true, \n",
      "        \"properties\": {\n",
      "          \"domain\": {\n",
      "            \"type\": \"string\", \n",
      "            \"analyzer\": \"whitespace_analyzer\"\n",
      "          }, \n",
      "          \"address\": {\n",
      "            \"type\": \"string\", \n",
      "            \"analyzer\": \"whitespace_analyzer\"\n",
      "          }, \n",
      "          \"param\": {\n",
      "            \"type\": \"string\", \n",
      "            \"analyzer\": \"whitespace_analyzer\"\n",
      "          }, \n",
      "          \"title\": {\n",
      "            \"type\": \"string\", \n",
      "            \"analyzer\": \"whitespace_analyzer\"\n",
      "          }\n",
      "        }\n",
      "      }\n",
      "    }\n",
      "  }\n",
      "}\n"
     ]
    }
   ],
   "source": [
    "mapping = Mapping('user_log')\n",
    "\n",
    "fact = Nested(multi=True, include_in_parent=True)\n",
    "fact.field('domain', String(analyzer=whitespace_analyzer))\n",
    "fact.field('address', String(analyzer=whitespace_analyzer))\n",
    "fact.field('param', String(analyzer=whitespace_analyzer))\n",
    "fact.field('title', String(analyzer=whitespace_analyzer))\n",
    "\n",
    "mapping.field('fact', fact)\n",
    "mapping.save('user')\n",
    "\n",
    "d = mapping.to_dict()\n",
    "print json.dumps(d, indent=2)"
   ]
  },
  {
   "cell_type": "code",
   "execution_count": 462,
   "metadata": {
    "collapsed": false,
    "scrolled": true
   },
   "outputs": [
    {
     "data": {
      "text/plain": [
       "[]"
      ]
     },
     "execution_count": 462,
     "metadata": {},
     "output_type": "execute_result"
    }
   ],
   "source": [
    "query = {'match_all': {}}\n",
    "body = {'query': query, 'fields': ['_id']}\n",
    "res = es.search(index='user', doc_type='user_log', body=body)\n",
    "res['hits']['hits']"
   ]
  },
  {
   "cell_type": "code",
   "execution_count": 463,
   "metadata": {
    "collapsed": false
   },
   "outputs": [
    {
     "data": {
      "text/plain": [
       "[[0, 1, 2], [3, 4, 5], [6, 7, 8], [9]]"
      ]
     },
     "execution_count": 463,
     "metadata": {},
     "output_type": "execute_result"
    }
   ],
   "source": [
    "def chunk(lst, n):\n",
    "    result = []\n",
    "    for i in range(0, len(lst), n):\n",
    "        result.append(lst[i:i+n])\n",
    "    return result\n",
    "chunk(range(10), 3)"
   ]
  },
  {
   "cell_type": "code",
   "execution_count": 464,
   "metadata": {
    "collapsed": true
   },
   "outputs": [],
   "source": [
    "from elasticsearch import helpers"
   ]
  },
  {
   "cell_type": "code",
   "execution_count": 465,
   "metadata": {
    "collapsed": false
   },
   "outputs": [
    {
     "name": "stderr",
     "output_type": "stream",
     "text": []
    }
   ],
   "source": [
    "for batch in tqdm(chunk(users_to_facts.items(), 100)):\n",
    "    actions = []\n",
    "    for uid, facts in batch:\n",
    "        idx = [indexes[f] for f in facts]\n",
    "        facts = df_urls.iloc[idx]\n",
    "        user = {'fact': facts.to_dict(orient='records')}\n",
    "        actions.append({'_id': uid, '_index': 'user', '_type': 'user_log', '_source': user})\n",
    "\n",
    "    helpers.bulk(es, actions)"
   ]
  },
  {
   "cell_type": "code",
   "execution_count": 468,
   "metadata": {
    "collapsed": false,
    "scrolled": true
   },
   "outputs": [
    {
     "data": {
      "text/plain": [
       "(339405, 339405)"
      ]
     },
     "execution_count": 468,
     "metadata": {},
     "output_type": "execute_result"
    }
   ],
   "source": [
    "query = {'match_all': {}}\n",
    "body = {'query': query, 'fields': ['_id']}\n",
    "res = es.search(index='user', doc_type='user_log', body=body)\n",
    "res['hits']['total'], len(users_to_facts)"
   ]
  },
  {
   "cell_type": "code",
   "execution_count": 469,
   "metadata": {
    "collapsed": true
   },
   "outputs": [],
   "source": [
    "uid = random_users[0]"
   ]
  },
  {
   "cell_type": "code",
   "execution_count": 470,
   "metadata": {
    "collapsed": false
   },
   "outputs": [],
   "source": [
    "def most_similar(uid):\n",
    "    facts = users_to_facts[uid]\n",
    "    idx = [indexes[f] for f in facts]\n",
    "    facts = df_urls.iloc[idx]\n",
    "\n",
    "    all_tokens = facts.to_string(header=False, index=False)\n",
    "    all_tokens = [t for t in re.split('\\s+', all_tokens) if t]\n",
    "\n",
    "    query = {\n",
    "        'query': {\n",
    "            'multi_match': {\n",
    "                'query': ' '.join(all_tokens),\n",
    "                'type': 'cross_fields',\n",
    "                'fields': ['fact.domain^3', 'fact.address', 'fact.param', 'fact.title^2'],\n",
    "                'analyzer': 'whitespace_analyzer',\n",
    "                #'tie_breaker': 1.0,\n",
    "                #'minimum_should_match': '5%',\n",
    "            }\n",
    "        },\n",
    "        'fields': ['_id']\n",
    "    }\n",
    "\n",
    "    res = es.search(index='user', doc_type='user_log', body=query)\n",
    "    hits = res['hits']['hits']\n",
    "    return [(d['_id'], d['_score']) for d in hits if d['_id'] != uid]"
   ]
  },
  {
   "cell_type": "code",
   "execution_count": 473,
   "metadata": {
    "collapsed": false
   },
   "outputs": [
    {
     "name": "stdout",
     "output_type": "stream",
     "text": [
      "90e6fdca0b3bdfdbd3298f982f9a6892\n"
     ]
    },
    {
     "data": {
      "text/plain": [
       "[(u'c041d4be84cec4ce764aaf8b71ee938d', 2.495066),\n",
       " (u'1c65f040ef0a224ed16d1a249996c8d2', 1.9890103),\n",
       " (u'6149cafee3f6c607ac5c792de49f6435', 1.9748555),\n",
       " (u'd4f7a36889720ce934f5e6216b57265c', 1.8945218),\n",
       " (u'da250a83222684be18221e153e561e85', 1.8142211),\n",
       " (u'7f24cb4fc5bd5aa0f145acb65fdb3c68', 1.7913772),\n",
       " (u'defc68230bd4a72fa1e2ec1fa35ea823', 1.7673705),\n",
       " (u'bd737c7c57ff8abf3693ae411e914004', 1.7507018),\n",
       " (u'6eb76cb9e2f86d12d7ac07aff904455b', 1.6934497)]"
      ]
     },
     "execution_count": 473,
     "metadata": {},
     "output_type": "execute_result"
    }
   ],
   "source": [
    "print uid\n",
    "\n",
    "most_similar(uid)"
   ]
  },
  {
   "cell_type": "code",
   "execution_count": 488,
   "metadata": {
    "collapsed": false
   },
   "outputs": [
    {
     "data": {
      "text/plain": [
       "{'001f0458e8591f4a74535f56dd626e51',\n",
       " '138696494bf8120e0aac853fd49f8b19',\n",
       " '7d144a1ba9f8e90b702de4008a7892ab',\n",
       " '83adc1accdf8e4efb8c8b99cffa44969',\n",
       " 'a4f0652b9962f24185dcf05a4bbe5030',\n",
       " 'b2f2f9d6198b4a3074d90b2b606211a9'}"
      ]
     },
     "execution_count": 488,
     "metadata": {},
     "output_type": "execute_result"
    }
   ],
   "source": [
    "components = nx.connected_components(G)\n",
    "node_to_others = {}\n",
    "for component in tqdm(components):\n",
    "    for node in component:\n",
    "        node_to_others[node] = component - {node}\n",
    "\n",
    "node_to_others[uid]"
   ]
  },
  {
   "cell_type": "code",
   "execution_count": 502,
   "metadata": {
    "collapsed": false
   },
   "outputs": [],
   "source": [
    "random_users = set(np.random.choice(list(train_users), size=500))"
   ]
  },
  {
   "cell_type": "code",
   "execution_count": 513,
   "metadata": {
    "collapsed": false
   },
   "outputs": [],
   "source": [
    "def find_similar(uid):\n",
    "    query = {\n",
    "        'query': {\n",
    "            'more_like_this': {\n",
    "                'like': {\n",
    "                    '_index': 'user',\n",
    "                    '_type': 'user_log',\n",
    "                    '_id': uid,\n",
    "                },\n",
    "                'fields': ['fact.domain^2', 'fact.address', 'fact.param', 'fact.title'],\n",
    "            }\n",
    "        },\n",
    "        'fields': ['_id']\n",
    "    }\n",
    "\n",
    "    res = es.search(index='user', doc_type='user_log', body=query)\n",
    "    hits = res['hits']['hits']\n",
    "    return [(d['_id'], d['_score']) for d in hits]"
   ]
  },
  {
   "cell_type": "code",
   "execution_count": 514,
   "metadata": {
    "collapsed": false
   },
   "outputs": [
    {
     "name": "stderr",
     "output_type": "stream",
     "text": []
    },
    {
     "data": {
      "text/plain": [
       "(764, 2003)"
      ]
     },
     "execution_count": 514,
     "metadata": {},
     "output_type": "execute_result"
    }
   ],
   "source": [
    "retrieved = 0\n",
    "relevant = 0\n",
    "\n",
    "for uid in tqdm(random_users):\n",
    "    similar = find_similar(uid)\n",
    "    others_found = {u for (u, _) in similar}\n",
    "    others_truth = node_to_others[uid]\n",
    "    retrieved = retrieved + len(others_found & others_truth) \n",
    "    relevant = relevant + len(others_truth)\n",
    "\n",
    "retrieved, relevant"
   ]
  },
  {
   "cell_type": "markdown",
   "metadata": {},
   "source": [
    "## Lets create some BOW stuff"
   ]
  },
  {
   "cell_type": "code",
   "execution_count": 6,
   "metadata": {
    "collapsed": true
   },
   "outputs": [],
   "source": [
    "all_titles = [d['title'] for d in url_dicts if d['title']]"
   ]
  },
  {
   "cell_type": "code",
   "execution_count": 9,
   "metadata": {
    "collapsed": true
   },
   "outputs": [],
   "source": [
    "from utils import split"
   ]
  },
  {
   "cell_type": "code",
   "execution_count": 9,
   "metadata": {
    "collapsed": false
   },
   "outputs": [
    {
     "data": {
      "text/plain": [
       "(1796480, 32197)"
      ]
     },
     "execution_count": 9,
     "metadata": {},
     "output_type": "execute_result"
    }
   ],
   "source": [
    "titles_tfidf = TfidfVectorizer(analyzer=split, min_df=20, dtype=np.float32)\n",
    "matrix_titles = titles_tfidf.fit_transform(all_titles)\n",
    "matrix_titles.shape"
   ]
  },
  {
   "cell_type": "code",
   "execution_count": 10,
   "metadata": {
    "collapsed": false
   },
   "outputs": [],
   "source": [
    "with open('tmp/titles_tfidf.bin', 'wb') as f:\n",
    "    cPickle.dump(titles_tfidf, f)"
   ]
  },
  {
   "cell_type": "code",
   "execution_count": 11,
   "metadata": {
    "collapsed": false
   },
   "outputs": [
    {
     "data": {
      "text/plain": [
       "TruncatedSVD(algorithm='randomized', n_components=100, n_iter=5,\n",
       "       random_state=1, tol=0.0)"
      ]
     },
     "execution_count": 11,
     "metadata": {},
     "output_type": "execute_result"
    }
   ],
   "source": [
    "titles_svd = TruncatedSVD(n_components=100, random_state=1)\n",
    "titles_svd.fit(matrix_titles)"
   ]
  },
  {
   "cell_type": "code",
   "execution_count": 14,
   "metadata": {
    "collapsed": false
   },
   "outputs": [
    {
     "data": {
      "text/plain": [
       "['ES ET EU EV BW T',\n",
       " 'ES ET EU EV BW T',\n",
       " 'ES ET EU EV BW T',\n",
       " 'M 2T 2P 2R BW T',\n",
       " '']"
      ]
     },
     "execution_count": 14,
     "metadata": {},
     "output_type": "execute_result"
    }
   ],
   "source": [
    "X = all_titles[:4] + ['']\n",
    "X"
   ]
  },
  {
   "cell_type": "code",
   "execution_count": 15,
   "metadata": {
    "collapsed": true
   },
   "outputs": [],
   "source": [
    "from sklearn.preprocessing import normalize"
   ]
  },
  {
   "cell_type": "code",
   "execution_count": 16,
   "metadata": {
    "collapsed": false
   },
   "outputs": [
    {
     "data": {
      "text/plain": [
       "array([[ 1.        ,  1.        ,  1.        ,  0.14265732,  0.        ],\n",
       "       [ 1.        ,  1.        ,  1.        ,  0.14265732,  0.        ],\n",
       "       [ 1.        ,  1.        ,  1.        ,  0.14265732,  0.        ],\n",
       "       [ 0.14265732,  0.14265732,  0.14265732,  1.        ,  0.        ],\n",
       "       [ 0.        ,  0.        ,  0.        ,  0.        ,  0.        ]])"
      ]
     },
     "execution_count": 16,
     "metadata": {},
     "output_type": "execute_result"
    }
   ],
   "source": [
    "X = titles_tfidf.transform(X)\n",
    "X.dot(X.T).toarray()"
   ]
  },
  {
   "cell_type": "code",
   "execution_count": 17,
   "metadata": {
    "collapsed": false
   },
   "outputs": [
    {
     "data": {
      "text/plain": [
       "array([[ 1.        ,  1.        ,  1.        ,  0.39588769,  0.        ],\n",
       "       [ 1.        ,  1.        ,  1.        ,  0.39588769,  0.        ],\n",
       "       [ 1.        ,  1.        ,  1.        ,  0.39588769,  0.        ],\n",
       "       [ 0.39588769,  0.39588769,  0.39588769,  1.        ,  0.        ],\n",
       "       [ 0.        ,  0.        ,  0.        ,  0.        ,  0.        ]])"
      ]
     },
     "execution_count": 17,
     "metadata": {},
     "output_type": "execute_result"
    }
   ],
   "source": [
    "X = titles_svd.transform(X)\n",
    "X = normalize(X)\n",
    "X.dot(X.T)"
   ]
  },
  {
   "cell_type": "code",
   "execution_count": 18,
   "metadata": {
    "collapsed": true
   },
   "outputs": [],
   "source": [
    "with open('tmp/titles_svd.bin', 'wb') as f:\n",
    "    cPickle.dump(titles_svd, f)"
   ]
  },
  {
   "cell_type": "code",
   "execution_count": 19,
   "metadata": {
    "collapsed": true
   },
   "outputs": [],
   "source": [
    "del X, matrix_titles, titles_svd, titles_tfidf"
   ]
  },
  {
   "cell_type": "code",
   "execution_count": 6,
   "metadata": {
    "collapsed": true
   },
   "outputs": [],
   "source": [
    "all_urls = [d['domain'] + ' ' + d['address'] for d in url_dicts]"
   ]
  },
  {
   "cell_type": "code",
   "execution_count": 7,
   "metadata": {
    "collapsed": true
   },
   "outputs": [],
   "source": [
    "del url_dicts"
   ]
  },
  {
   "cell_type": "code",
   "execution_count": 10,
   "metadata": {
    "collapsed": false
   },
   "outputs": [
    {
     "data": {
      "text/plain": [
       "(14148535, 68174)"
      ]
     },
     "execution_count": 10,
     "metadata": {},
     "output_type": "execute_result"
    }
   ],
   "source": [
    "urls_tfidf = TfidfVectorizer(analyzer=split, min_df=20, dtype=np.float32)\n",
    "matrix_urls = urls_tfidf.fit_transform(all_urls)\n",
    "matrix_urls.shape"
   ]
  },
  {
   "cell_type": "code",
   "execution_count": 11,
   "metadata": {
    "collapsed": false
   },
   "outputs": [],
   "source": [
    "with open('tmp/urls_tfidf.bin', 'wb') as f:\n",
    "    cPickle.dump(urls_tfidf, f)"
   ]
  },
  {
   "cell_type": "code",
   "execution_count": 12,
   "metadata": {
    "collapsed": true
   },
   "outputs": [],
   "source": [
    "del all_urls, urls_tfidf"
   ]
  },
  {
   "cell_type": "code",
   "execution_count": 13,
   "metadata": {
    "collapsed": true
   },
   "outputs": [],
   "source": [
    "total_size = matrix_urls.shape[0]\n",
    "idx = np.arange(total_size, dtype=np.int32)\n",
    "np.random.seed(10)\n",
    "sample_idx = np.random.choice(idx, size=int(total_size * 0.5), replace=False)\n",
    "del idx"
   ]
  },
  {
   "cell_type": "code",
   "execution_count": 14,
   "metadata": {
    "collapsed": true
   },
   "outputs": [],
   "source": [
    "matrix_urls = matrix_urls[sample_idx].copy()"
   ]
  },
  {
   "cell_type": "code",
   "execution_count": 15,
   "metadata": {
    "collapsed": false
   },
   "outputs": [
    {
     "data": {
      "text/plain": [
       "TruncatedSVD(algorithm='randomized', n_components=150, n_iter=5,\n",
       "       random_state=1, tol=0.0)"
      ]
     },
     "execution_count": 15,
     "metadata": {},
     "output_type": "execute_result"
    }
   ],
   "source": [
    "urls_svd = TruncatedSVD(n_components=150, random_state=1)\n",
    "urls_svd.fit(matrix_urls)"
   ]
  },
  {
   "cell_type": "code",
   "execution_count": 16,
   "metadata": {
    "collapsed": false
   },
   "outputs": [],
   "source": [
    "with open('tmp/urls_svd.bin', 'wb') as f:\n",
    "    cPickle.dump(urls_svd, f)"
   ]
  },
  {
   "cell_type": "markdown",
   "metadata": {
    "collapsed": true
   },
   "source": [
    "## BoW for users"
   ]
  },
  {
   "cell_type": "code",
   "execution_count": null,
   "metadata": {
    "collapsed": true
   },
   "outputs": [],
   "source": []
  }
 ],
 "metadata": {
  "kernelspec": {
   "display_name": "Python 2",
   "language": "python",
   "name": "python2"
  },
  "language_info": {
   "codemirror_mode": {
    "name": "ipython",
    "version": 2
   },
   "file_extension": ".py",
   "mimetype": "text/x-python",
   "name": "python",
   "nbconvert_exporter": "python",
   "pygments_lexer": "ipython2",
   "version": "2.7.11"
  }
 },
 "nbformat": 4,
 "nbformat_minor": 0
}
